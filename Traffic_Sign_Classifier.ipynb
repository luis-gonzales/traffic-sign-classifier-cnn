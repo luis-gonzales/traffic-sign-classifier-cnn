{
 "cells": [
  {
   "cell_type": "markdown",
   "metadata": {},
   "source": [
    "# Self-Driving Car Engineer Nanodegree\n",
    "\n",
    "## Deep Learning\n",
    "\n",
    "## Project: Build a Traffic Sign Recognition Classifier\n",
    "\n",
    "In this notebook, a template is provided for you to implement your functionality in stages, which is required to successfully complete this project. If additional code is required that cannot be included in the notebook, be sure that the Python code is successfully imported and included in your submission if necessary. \n",
    "\n",
    "> **Note**: Once you have completed all of the code implementations, you need to finalize your work by exporting the iPython Notebook as an HTML document. Before exporting the notebook to html, all of the code cells need to have been run so that reviewers can see the final implementation and output. You can then export the notebook by using the menu above and navigating to  \\n\",\n",
    "    \"**File -> Download as -> HTML (.html)**. Include the finished document along with this notebook as your submission. \n",
    "\n",
    "In addition to implementing code, there is a writeup to complete. The writeup should be completed in a separate file, which can be either a markdown file or a pdf document. There is a [write up template](https://github.com/udacity/CarND-Traffic-Sign-Classifier-Project/blob/master/writeup_template.md) that can be used to guide the writing process. Completing the code template and writeup template will cover all of the [rubric points](https://review.udacity.com/#!/rubrics/481/view) for this project.\n",
    "\n",
    "The [rubric](https://review.udacity.com/#!/rubrics/481/view) contains \"Stand Out Suggestions\" for enhancing the project beyond the minimum requirements. The stand out suggestions are optional. If you decide to pursue the \"stand out suggestions\", you can include the code in this Ipython notebook and also discuss the results in the writeup file.\n",
    "\n",
    "\n",
    ">**Note:** Code and Markdown cells can be executed using the **Shift + Enter** keyboard shortcut. In addition, Markdown cells can be edited by typically double-clicking the cell to enter edit mode."
   ]
  },
  {
   "cell_type": "markdown",
   "metadata": {},
   "source": [
    "---\n",
    "## Step 0: Load The Data"
   ]
  },
  {
   "cell_type": "code",
   "execution_count": 1,
   "metadata": {},
   "outputs": [],
   "source": [
    "import pickle\n",
    "import numpy as np\n",
    "import tensorflow as tf\n",
    "from sklearn.utils import shuffle\n",
    "\n",
    "# Load pickled data\n",
    "training_file = 'traffic-signs-data/train.p'\n",
    "validation_file = 'traffic-signs-data/valid.p'\n",
    "testing_file = 'traffic-signs-data/test.p'\n",
    "\n",
    "with open(training_file, mode='rb') as f:\n",
    "    train = pickle.load(f)\n",
    "with open(validation_file, mode='rb') as f:\n",
    "    val = pickle.load(f)\n",
    "with open(testing_file, mode='rb') as f:\n",
    "    test = pickle.load(f)\n",
    "    \n",
    "X_train, y_train = train['features'], train['labels']\n",
    "X_val, y_val = val['features'], val['labels']\n",
    "X_test, y_test = test['features'], test['labels']"
   ]
  },
  {
   "cell_type": "markdown",
   "metadata": {},
   "source": [
    "---\n",
    "\n",
    "## Step 1: Dataset Summary & Exploration\n",
    "\n",
    "The pickled data is a dictionary with 4 key/value pairs:\n",
    "\n",
    "- `'features'` is a 4D array containing raw pixel data of the traffic sign images, (num examples, width, height, channels).\n",
    "- `'labels'` is a 1D array containing the label/class id of the traffic sign. The file `signnames.csv` contains id -> name mappings for each id.\n",
    "- `'sizes'` is a list containing tuples, (width, height) representing the original width and height the image.\n",
    "- `'coords'` is a list containing tuples, (x1, y1, x2, y2) representing coordinates of a bounding box around the sign in the image. **THESE COORDINATES ASSUME THE ORIGINAL IMAGE. THE PICKLED DATA CONTAINS RESIZED VERSIONS (32 by 32) OF THESE IMAGES**\n",
    "\n",
    "Complete the basic data summary below. Use python, numpy and/or pandas methods to calculate the data summary rather than hard coding the results. For example, the [pandas shape method](http://pandas.pydata.org/pandas-docs/stable/generated/pandas.DataFrame.shape.html) might be useful for calculating some of the summary results. "
   ]
  },
  {
   "cell_type": "markdown",
   "metadata": {},
   "source": [
    "### Provide a Basic Summary of the Data Set Using Python, Numpy and/or Pandas"
   ]
  },
  {
   "cell_type": "code",
   "execution_count": 2,
   "metadata": {},
   "outputs": [
    {
     "name": "stdout",
     "output_type": "stream",
     "text": [
      "Number of training examples = 34799\n",
      "Number of testing examples = 12630\n",
      "Image data shape = (32, 32, 3)\n",
      "Number of classes = 43\n"
     ]
    }
   ],
   "source": [
    "# Number of training examples\n",
    "n_train = y_train.shape[0]\n",
    "\n",
    "# Number of validation examples\n",
    "n_validation = y_val.shape[0]\n",
    "\n",
    "# Number of testing examples\n",
    "n_test = y_test.shape[0]\n",
    "\n",
    "# Shape of a traffic sign image\n",
    "image_shape = X_train[0].shape\n",
    "\n",
    "# Number of unique classes/labels in the dataset\n",
    "n_classes = np.max(y_train) + 1\n",
    "\n",
    "print(\"Number of training examples =\", n_train)\n",
    "print(\"Number of testing examples =\", n_test)\n",
    "print(\"Image data shape =\", image_shape)\n",
    "print(\"Number of classes =\", n_classes)"
   ]
  },
  {
   "cell_type": "markdown",
   "metadata": {},
   "source": [
    "### Include an exploratory visualization of the dataset"
   ]
  },
  {
   "cell_type": "markdown",
   "metadata": {},
   "source": [
    "Visualize the German Traffic Signs Dataset using the pickled file(s). This is open ended, suggestions include: plotting traffic sign images, plotting the count of each sign, etc. \n",
    "\n",
    "The [Matplotlib](http://matplotlib.org/) [examples](http://matplotlib.org/examples/index.html) and [gallery](http://matplotlib.org/gallery.html) pages are a great resource for doing visualizations in Python.\n",
    "\n",
    "**NOTE:** It's recommended you start with something simple first. If you wish to do more, come back to it after you've completed the rest of the sections. It can be interesting to look at the distribution of classes in the training, validation and test set. Is the distribution the same? Are there more examples of some classes than others?"
   ]
  },
  {
   "cell_type": "code",
   "execution_count": 3,
   "metadata": {},
   "outputs": [
    {
     "data": {
      "image/png": "[encoded data removed]",
      "text/plain": [
       "<Figure size 288x432 with 3 Axes>"
      ]
     },
     "metadata": {
      "needs_background": "light"
     },
     "output_type": "display_data"
    }
   ],
   "source": [
    "import matplotlib.pyplot as plt\n",
    "%matplotlib inline\n",
    "\n",
    "# View histogram of dataset\n",
    "f = plt.figure(figsize=(4,6))\n",
    "font_sz = 12\n",
    "\n",
    "ax = f.add_subplot(3,1,1)\n",
    "ax.hist(y_train, bins=43, edgecolor='black', color=(0.254, 0.808, 0.98)) #(65, 206, 250)\n",
    "ax.set_ylabel('Training set', rotation=90, fontsize=font_sz, labelpad = 8)\n",
    "ax.set_yticks([0, 500, 1500], minor=True)\n",
    "ax.yaxis.set_ticklabels(['', 1000, 2000])\n",
    "plt.yticks([0, 1000, 2000])\n",
    "ax.xaxis.set_ticklabels([])\n",
    "plt.xticks([0, 10, 20, 30, 40])\n",
    "ax.yaxis.grid(which='both')\n",
    "ax.spines['top'].set_visible(False)\n",
    "ax.spines['right'].set_visible(False)\n",
    "ax.axis([0, 42, 0, 2100])\n",
    "ax.set_axisbelow(True) # send grid to background\n",
    "ax.tick_params(labelsize=font_sz)\n",
    "\n",
    "ax = f.add_subplot(3,1,2)\n",
    "ax.hist(y_val, bins=43, edgecolor='black', color=(0.254, 0.808, 0.98))\n",
    "ax.set_ylabel('Validation set', rotation=90, fontsize=font_sz, labelpad = 13.2)\n",
    "ax.set_yticks([50, 150, 250], minor=True)\n",
    "ax.yaxis.set_ticklabels(['', 100, 200])\n",
    "plt.yticks([0, 100, 200])\n",
    "ax.xaxis.set_ticklabels([])\n",
    "plt.xticks([0, 10, 20, 30, 40])\n",
    "ax.yaxis.grid(which='both')\n",
    "ax.spines['top'].set_visible(False)\n",
    "ax.spines['right'].set_visible(False)\n",
    "ax.axis([0, 42, 0, 250])\n",
    "ax.set_axisbelow(True) # send grid to background\n",
    "ax.tick_params(labelsize=font_sz)\n",
    "\n",
    "ax = f.add_subplot(3,1,3)\n",
    "ax.hist(y_test, bins=43, edgecolor='black', color=(0.254, 0.808, 0.98))\n",
    "ax.set_xlabel('Class labels', fontsize=font_sz)\n",
    "ax.set_ylabel('Test set', rotation=90, fontsize=font_sz, labelpad = 13.3)\n",
    "ax.set_yticks([150, 450, 750], minor=True)\n",
    "ax.yaxis.set_ticklabels(['', 300, 600])\n",
    "plt.yticks([0, 300, 600])\n",
    "ax.yaxis.grid(which='both')\n",
    "ax.spines['top'].set_visible(False)\n",
    "ax.spines['right'].set_visible(False)\n",
    "ax.axis([0, 42, 0, 800])\n",
    "ax.set_axisbelow(True) # send grid to background\n",
    "ax.tick_params(labelsize=font_sz)\n",
    "\n",
    "\n",
    "plt.subplots_adjust(hspace=0.2)"
   ]
  },
  {
   "cell_type": "markdown",
   "metadata": {},
   "source": [
    "----\n",
    "\n",
    "## Step 2: Design and Test a Model Architecture\n",
    "\n",
    "Design and implement a deep learning model that learns to recognize traffic signs. Train and test your model on the [German Traffic Sign Dataset](http://benchmark.ini.rub.de/?section=gtsrb&subsection=dataset).\n",
    "\n",
    "The LeNet-5 implementation shown in the [classroom](https://classroom.udacity.com/nanodegrees/nd013/parts/fbf77062-5703-404e-b60c-95b78b2f3f9e/modules/6df7ae49-c61c-4bb2-a23e-6527e69209ec/lessons/601ae704-1035-4287-8b11-e2c2716217ad/concepts/d4aca031-508f-4e0b-b493-e7b706120f81) at the end of the CNN lesson is a solid starting point. You'll have to change the number of classes and possibly the preprocessing, but aside from that it's plug and play! \n",
    "\n",
    "With the LeNet-5 solution from the lecture, you should expect a validation set accuracy of about 0.89. To meet specifications, the validation set accuracy will need to be at least 0.93. It is possible to get an even higher accuracy, but 0.93 is the minimum for a successful project submission. \n",
    "\n",
    "There are various aspects to consider when thinking about this problem:\n",
    "\n",
    "- Neural network architecture (is the network over or underfitting?)\n",
    "- Play around preprocessing techniques (normalization, rgb to grayscale, etc)\n",
    "- Number of examples per label (some have more than others).\n",
    "- Generate fake data.\n",
    "\n",
    "Here is an example of a [published baseline model on this problem](http://yann.lecun.com/exdb/publis/pdf/sermanet-ijcnn-11.pdf). It's not required to be familiar with the approach used in the paper but, it's good practice to try to read papers like these."
   ]
  },
  {
   "cell_type": "markdown",
   "metadata": {},
   "source": [
    "### Pre-process the Data Set (normalization, grayscale, etc.)"
   ]
  },
  {
   "cell_type": "markdown",
   "metadata": {},
   "source": [
    "Minimally, the image data should be normalized so that the data has mean zero and equal variance. For image data, `(pixel - 128)/ 128` is a quick way to approximately normalize the data and can be used in this project. \n",
    "\n",
    "Other pre-processing steps are optional. You can try different techniques to see if it improves performance. \n",
    "\n",
    "Use the code cell (or multiple code cells, if necessary) to implement the first step of your project."
   ]
  },
  {
   "cell_type": "code",
   "execution_count": null,
   "metadata": {},
   "outputs": [],
   "source": [
    "# Preprocessing takes place in first layer of CNN"
   ]
  },
  {
   "cell_type": "markdown",
   "metadata": {},
   "source": [
    "### Model Architecture"
   ]
  },
  {
   "cell_type": "code",
   "execution_count": 4,
   "metadata": {},
   "outputs": [],
   "source": [
    "# Define CNN model\n",
    "def TrafficNet(X, prob_keep=1):\n",
    "    # X is assumed to be 32 x 32 x 3\n",
    "\n",
    "    K = [16, 16, 16, 1000, 43]\n",
    "\n",
    "    initializer = tf.contrib.layers.variance_scaling_initializer()\n",
    "  \n",
    "    W = [tf.Variable( initializer((3, 3, 1, K[0])) ),\n",
    "         tf.Variable( initializer((3, 3, K[0], K[1])) ),\n",
    "         tf.Variable( initializer((3, 3, K[1], K[2])) ),\n",
    "         tf.Variable( initializer((16*16*K[2], K[3])) ),\n",
    "         tf.Variable( initializer((K[3], K[4])) )]  \n",
    "  \n",
    "    b = [tf.Variable( tf.zeros(K[0]) ),\n",
    "         tf.Variable( tf.zeros(K[1]) ),\n",
    "         tf.Variable( tf.zeros(K[2]) ),\n",
    "         tf.Variable( tf.zeros(K[3]) ),\n",
    "         tf.Variable( tf.zeros(K[4]) )]\n",
    "\n",
    "    # Preprocess: convert to grayscale and normalize\n",
    "    X = tf.image.rgb_to_grayscale(X)\n",
    "    X = tf.subtract(X, 128)\n",
    "    X = tf.divide(X, 128)\n",
    "\n",
    "    padding = 'SAME'\n",
    "    strides = [1,1,1,1]\n",
    "    k_pool  = [1,2,2,1]\n",
    "\n",
    "    # Conv 1: 32 x 32 x 1 -> 32 x 32 x K[0]\n",
    "    conv_1 = tf.nn.conv2d(X, W[0], strides, padding) + b[0]\n",
    "    conv_1 = tf.nn.relu(conv_1)\n",
    "\n",
    "    # Conv 2: 32 x 32 x K[0] -> 32 x 32 x K[1]\n",
    "    conv_2 = tf.nn.conv2d(conv_1, W[1], strides, padding) + b[1]\n",
    "    conv_2 = tf.nn.relu(conv_2)\n",
    "\n",
    "    # Conv 3: 32 x 32 x K[1] -> 32 x 32 x K[2]\n",
    "    conv_3 = tf.nn.conv2d(conv_2, W[2], strides, padding) + b[2]\n",
    "    conv_3 = tf.nn.relu(conv_3 + conv_1)\n",
    "  \n",
    "    # Pool 1: 32 x 32 x K[2] -> 16 x 16 x K[2]\n",
    "    pool_1 = tf.nn.max_pool(conv_3, k_pool, strides=[1,2,2,1], padding='VALID')  \n",
    "\n",
    "    # FC 1: 16 x 16 x K[2] -> 1 x K[3]\n",
    "    flat = tf.contrib.layers.flatten(pool_1)\n",
    "    fc_1 = tf.nn.xw_plus_b(flat, W[3], b[3])\n",
    "    fc_1 = tf.nn.relu(fc_1)\n",
    "    fc_1 = tf.nn.dropout(fc_1, keep_prob=prob_keep)\n",
    "      \n",
    "    # Logits: 1 x K[3] -> 1 x K[4]\n",
    "    logits = tf.nn.xw_plus_b(fc_1, W[4], b[4])\n",
    "\n",
    "    return logits"
   ]
  },
  {
   "cell_type": "markdown",
   "metadata": {},
   "source": [
    "### Train, Validate and Test the Model"
   ]
  },
  {
   "cell_type": "markdown",
   "metadata": {},
   "source": [
    "A validation set can be used to assess how well the model is performing. A low accuracy on the training and validation\n",
    "sets imply underfitting. A high accuracy on the training set but low accuracy on the validation set implies overfitting."
   ]
  },
  {
   "cell_type": "code",
   "execution_count": null,
   "metadata": {},
   "outputs": [],
   "source": [
    "# Batch placeholders\n",
    "x = tf.placeholder(tf.float32, (None,32,32,3))\n",
    "y = tf.placeholder(tf.uint8, (None))\n",
    "one_hot_y = tf.one_hot(y, n_classes)\n",
    "\n",
    "\n",
    "# Training pipeline\n",
    "rate = tf.placeholder(tf.float32)\n",
    "prob_keep = tf.placeholder(tf.float32)\n",
    "logits = TrafficNet(x, prob_keep=prob_keep)\n",
    "x_entropies = tf.nn.softmax_cross_entropy_with_logits(labels=one_hot_y, logits=logits)\n",
    "loss = tf.reduce_mean(x_entropies)\n",
    "optimizer = tf.train.AdamOptimizer(learning_rate=rate).minimize(loss)\n",
    "\n",
    "\n",
    "# Model evaluation\n",
    "correct_predicts = tf.equal( tf.argmax(logits,1), tf.cast(y, tf.int64) )\n",
    "accuracy = tf.reduce_mean( tf.cast(correct_predicts, tf.float32) )\n",
    "\n",
    "def evaluate(X_data, y_data, sess, batch_sz_eval):\n",
    "  eval_acc = 0\n",
    "  for j in range(0, len(X_data), batch_sz_eval):\n",
    "    mini_x, mini_y = X_data[j:j+batch_sz_eval], y_data[j:j+batch_sz_eval]\n",
    "    mini_acc = sess.run(accuracy, feed_dict={x: mini_x, y: mini_y, prob_keep: 1})\n",
    "    eval_acc += mini_acc * len(mini_x)\n",
    "  return eval_acc / len(X_data)\n",
    "\n",
    "\n",
    "# Train and save network\n",
    "f = plt.figure(figsize = (2.5,2.5))\n",
    "ax = f.add_subplot(1,1,1)\n",
    "\n",
    "saver = tf.train.Saver()\n",
    "sess = tf.Session()\n",
    "\n",
    "print('Training...')\n",
    "train_accs, val_accs, alpha_list = [], [], []     # store stats\n",
    "sess.run(tf.global_variables_initializer())\n",
    "alpha, batch_sz, epochs = 0.0005, 64, 2 #150\n",
    "  \n",
    "# Perform training routine `epoch` number of times\n",
    "for curr_epoch in range(epochs):\n",
    "  X_train, y_train = shuffle(X_train, y_train)\n",
    "  learn_slow_down = curr_epoch > 80\n",
    "  if learn_slow_down:\n",
    "    alpha *= 0.95\n",
    "  alpha_list.append(alpha)\n",
    "  for j in range(0, len(X_train), batch_sz): # 0, batch_sz, 2*batch_sz\n",
    "    batch_x, batch_y = X_train[j:j+batch_sz], y_train[j:j+batch_sz]\n",
    "    sess.run(optimizer, feed_dict={x: batch_x, y: batch_y, rate: alpha, prob_keep: 0.5})\n",
    "\n",
    "  print('Epoch', curr_epoch+1, 'complete')\n",
    "  train_accs.append( evaluate(X_train, y_train, sess, 512) )\n",
    "  val_accs.append( evaluate(X_val, y_val, sess, 512) )\n",
    "  print('Evaluation complete')\n",
    "\n",
    "print('Training complete!')\n",
    "\n",
    "\n",
    "# Save model\n",
    "saver.save(sess, './tf_model/model.ckpt')\n",
    "print('Saved model.')"
   ]
  },
  {
   "cell_type": "markdown",
   "metadata": {},
   "source": [
    "---\n",
    "\n",
    "## Step 3: Test a Model on New Images\n",
    "\n",
    "To give yourself more insight into how your model is working, download at least five pictures of German traffic signs from the web and use your model to predict the traffic sign type.\n",
    "\n",
    "You may find `signnames.csv` useful as it contains mappings from the class id (integer) to the actual sign name."
   ]
  },
  {
   "cell_type": "markdown",
   "metadata": {},
   "source": [
    "### Load and Output the Images"
   ]
  },
  {
   "cell_type": "code",
   "execution_count": 5,
   "metadata": {},
   "outputs": [
    {
     "data": {
      "text/plain": [
       "<matplotlib.image.AxesImage at 0x13da1bac8>"
      ]
     },
     "execution_count": 5,
     "metadata": {},
     "output_type": "execute_result"
    },
    {
     "data": {
      "image/png": "[encoded data removed]",
      "text/plain": [
       "<Figure size 1080x576 with 6 Axes>"
      ]
     },
     "metadata": {
      "needs_background": "light"
     },
     "output_type": "display_data"
    }
   ],
   "source": [
    "# Visualize images\n",
    "f, ax = plt.subplots(2, 3, figsize=(15,8))\n",
    "ax[0,0].imshow(X_test[0])\n",
    "ax[0,1].imshow(X_test[1])\n",
    "ax[0,2].imshow(X_test[2])\n",
    "ax[1,0].imshow(X_test[3])\n",
    "ax[1,1].imshow(X_test[4])\n",
    "ax[1,2].imshow(X_test[5])"
   ]
  },
  {
   "cell_type": "markdown",
   "metadata": {},
   "source": [
    "### Predict the Sign Type for Each Image"
   ]
  },
  {
   "cell_type": "code",
   "execution_count": 6,
   "metadata": {},
   "outputs": [
    {
     "name": "stdout",
     "output_type": "stream",
     "text": [
      "INFO:tensorflow:Restoring parameters from tf_model/model.ckpt\n",
      "Predictions (top-left to bottom-right): [16  1 38 33 11 38]\n"
     ]
    }
   ],
   "source": [
    "# Use the model to output the prediction for each image\n",
    "\n",
    "# Declare TrafficNet logits\n",
    "x = tf.placeholder(tf.float32, (None,32,32,3))\n",
    "prob_keep = tf.placeholder(tf.float32)\n",
    "logits = TrafficNet(x, prob_keep=prob_keep)  \n",
    "\n",
    "\n",
    "# Restore model\n",
    "sess = tf.Session()\n",
    "saver = tf.train.Saver()\n",
    "saver.restore(sess, 'tf_model/model.ckpt')\n",
    "\n",
    "# Obtain CNN results for `imgs`\n",
    "imgs = X_test[0:6]\n",
    "logits_imgs = sess.run(logits, feed_dict={x: imgs, prob_keep: 1})\n",
    "softmax_imgs = sess.run(tf.nn.softmax(logits_imgs))\n",
    "des_sort_idx = np.argsort(-softmax_imgs)\n",
    "\n",
    "preds = des_sort_idx[:,0]\n",
    "print('Predictions (top-left to bottom-right):', preds)"
   ]
  },
  {
   "cell_type": "markdown",
   "metadata": {},
   "source": [
    "### Analyze Performance"
   ]
  },
  {
   "cell_type": "code",
   "execution_count": 7,
   "metadata": {},
   "outputs": [
    {
     "name": "stdout",
     "output_type": "stream",
     "text": [
      "Accuracy: 1.0\n"
     ]
    }
   ],
   "source": [
    "# Calculate the accuracy for these 5 new images \n",
    "accuracy = np.count_nonzero(preds == y_test[0:6]) / preds.shape[0]\n",
    "print('Accuracy:', accuracy)"
   ]
  },
  {
   "cell_type": "markdown",
   "metadata": {},
   "source": [
    "### Output Top 5 Softmax Probabilities For Each Image Found on the Web"
   ]
  },
  {
   "cell_type": "markdown",
   "metadata": {},
   "source": [
    "For each of the new images, print out the model's softmax probabilities to show the **certainty** of the model's predictions (limit the output to the top 5 probabilities for each image). [`tf.nn.top_k`](https://www.tensorflow.org/versions/r0.12/api_docs/python/nn.html#top_k) could prove helpful here. \n",
    "\n",
    "The example below demonstrates how tf.nn.top_k can be used to find the top k predictions for each image.\n",
    "\n",
    "`tf.nn.top_k` will return the values and indices (class ids) of the top k predictions. So if k=3, for each sign, it'll return the 3 largest probabilities (out of a possible 43) and the correspoding class ids.\n",
    "\n",
    "Take this numpy array as an example. The values in the array represent predictions. The array contains softmax probabilities for five candidate images with six possible classes. `tf.nn.top_k` is used to choose the three classes with the highest probability:\n",
    "\n",
    "```\n",
    "# (5, 6) array\n",
    "a = np.array([[ 0.24879643,  0.07032244,  0.12641572,  0.34763842,  0.07893497,\n",
    "         0.12789202],\n",
    "       [ 0.28086119,  0.27569815,  0.08594638,  0.0178669 ,  0.18063401,\n",
    "         0.15899337],\n",
    "       [ 0.26076848,  0.23664738,  0.08020603,  0.07001922,  0.1134371 ,\n",
    "         0.23892179],\n",
    "       [ 0.11943333,  0.29198961,  0.02605103,  0.26234032,  0.1351348 ,\n",
    "         0.16505091],\n",
    "       [ 0.09561176,  0.34396535,  0.0643941 ,  0.16240774,  0.24206137,\n",
    "         0.09155967]])\n",
    "```\n",
    "\n",
    "Running it through `sess.run(tf.nn.top_k(tf.constant(a), k=3))` produces:\n",
    "\n",
    "```\n",
    "TopKV2(values=array([[ 0.34763842,  0.24879643,  0.12789202],\n",
    "       [ 0.28086119,  0.27569815,  0.18063401],\n",
    "       [ 0.26076848,  0.23892179,  0.23664738],\n",
    "       [ 0.29198961,  0.26234032,  0.16505091],\n",
    "       [ 0.34396535,  0.24206137,  0.16240774]]), indices=array([[3, 0, 5],\n",
    "       [0, 1, 4],\n",
    "       [0, 5, 1],\n",
    "       [1, 3, 5],\n",
    "       [1, 4, 3]], dtype=int32))\n",
    "```\n",
    "\n",
    "Looking just at the first row we get `[ 0.34763842,  0.24879643,  0.12789202]`, you can confirm these are the 3 largest probabilities in `a`. You'll also notice `[3, 0, 5]` are the corresponding indices."
   ]
  },
  {
   "cell_type": "code",
   "execution_count": 9,
   "metadata": {},
   "outputs": [
    {
     "name": "stdout",
     "output_type": "stream",
     "text": [
      "Image 1 --------\n",
      "Class \t Softmax\n",
      "16 \t 1.00000\n",
      "9 \t 0.00000\n",
      "40 \t 0.00000\n",
      "15 \t 0.00000\n",
      "41 \t 0.00000\n",
      "Image 2 --------\n",
      "Class \t Softmax\n",
      "16 \t 1.00000\n",
      "9 \t 0.00000\n",
      "40 \t 0.00000\n",
      "15 \t 0.00000\n",
      "41 \t 0.00000\n",
      "Image 3 --------\n",
      "Class \t Softmax\n",
      "16 \t 1.00000\n",
      "9 \t 0.00000\n",
      "40 \t 0.00000\n",
      "15 \t 0.00000\n",
      "41 \t 0.00000\n",
      "Image 4 --------\n",
      "Class \t Softmax\n",
      "16 \t 1.00000\n",
      "9 \t 0.00000\n",
      "40 \t 0.00000\n",
      "15 \t 0.00000\n",
      "41 \t 0.00000\n",
      "Image 5 --------\n",
      "Class \t Softmax\n",
      "16 \t 1.00000\n",
      "9 \t 0.00000\n",
      "40 \t 0.00000\n",
      "15 \t 0.00000\n",
      "41 \t 0.00000\n",
      "Image 6 --------\n",
      "Class \t Softmax\n",
      "16 \t 1.00000\n",
      "9 \t 0.00000\n",
      "40 \t 0.00000\n",
      "15 \t 0.00000\n",
      "41 \t 0.00000\n"
     ]
    }
   ],
   "source": [
    "# Print out the top-five softmax probabilities \n",
    "top_k = 5\n",
    "\n",
    "num_imgs = des_sort_idx.shape[0]\n",
    "\n",
    "for k in range(num_imgs):\n",
    "    print('Image', k+1, '--------')\n",
    "    print('Class \\t Softmax')\n",
    "    for i in range(top_k):\n",
    "        cur_class = des_sort_idx[0,i]\n",
    "        print(cur_class, '\\t {:.5f}'.format(softmax_imgs[0,cur_class]))"
   ]
  },
  {
   "cell_type": "markdown",
   "metadata": {},
   "source": [
    "### Project Writeup\n",
    "\n",
    "Once you have completed the code implementation, document your results in a project writeup using this [template](https://github.com/udacity/CarND-Traffic-Sign-Classifier-Project/blob/master/writeup_template.md) as a guide. The writeup can be in a markdown or pdf file. "
   ]
  },
  {
   "cell_type": "markdown",
   "metadata": {},
   "source": [
    "> **Note**: Once you have completed all of the code implementations and successfully answered each question above, you may finalize your work by exporting the iPython Notebook as an HTML document. You can do this by using the menu above and navigating to  \\n\",\n",
    "    \"**File -> Download as -> HTML (.html)**. Include the finished document along with this notebook as your submission."
   ]
  },
  {
   "cell_type": "markdown",
   "metadata": {},
   "source": [
    "---\n",
    "\n",
    "## Step 4 (Optional): Visualize the Neural Network's State with Test Images\n",
    "\n",
    " This Section is not required to complete but acts as an additional excersise for understaning the output of a neural network's weights. While neural networks can be a great learning device they are often referred to as a black box. We can understand what the weights of a neural network look like better by plotting their feature maps. After successfully training your neural network you can see what it's feature maps look like by plotting the output of the network's weight layers in response to a test stimuli image. From these plotted feature maps, it's possible to see what characteristics of an image the network finds interesting. For a sign, maybe the inner network feature maps react with high activation to the sign's boundary outline or to the contrast in the sign's painted symbol.\n",
    "\n",
    " Provided for you below is the function code that allows you to get the visualization output of any tensorflow weight layer you want. The inputs to the function should be a stimuli image, one used during training or a new one you provided, and then the tensorflow variable name that represents the layer's state during the training process, for instance if you wanted to see what the [LeNet lab's](https://classroom.udacity.com/nanodegrees/nd013/parts/fbf77062-5703-404e-b60c-95b78b2f3f9e/modules/6df7ae49-c61c-4bb2-a23e-6527e69209ec/lessons/601ae704-1035-4287-8b11-e2c2716217ad/concepts/d4aca031-508f-4e0b-b493-e7b706120f81) feature maps looked like for it's second convolutional layer you could enter conv2 as the tf_activation variable.\n",
    "\n",
    "For an example of what feature map outputs look like, check out NVIDIA's results in their paper [End-to-End Deep Learning for Self-Driving Cars](https://devblogs.nvidia.com/parallelforall/deep-learning-self-driving-cars/) in the section Visualization of internal CNN State. NVIDIA was able to show that their network's inner weights had high activations to road boundary lines by comparing feature maps from an image with a clear path to one without. Try experimenting with a similar test to show that your trained network's weights are looking for interesting features, whether it's looking at differences in feature maps from images with or without a sign, or even what feature maps look like in a trained network vs a completely untrained one on the same sign image.\n",
    "\n",
    "<figure>\n",
    " <img src=\"visualize_cnn.png\" width=\"380\" alt=\"Combined Image\" />\n",
    " <figcaption>\n",
    " <p></p> \n",
    " <p style=\"text-align: center;\"> Your output should look something like this (above)</p> \n",
    " </figcaption>\n",
    "</figure>\n",
    " <p></p> \n"
   ]
  },
  {
   "cell_type": "code",
   "execution_count": null,
   "metadata": {},
   "outputs": [],
   "source": [
    "### Visualize your network's feature maps here.\n",
    "### Feel free to use as many code cells as needed.\n",
    "\n",
    "# image_input: the test image being fed into the network to produce the feature maps\n",
    "# tf_activation: should be a tf variable name used during your training procedure that represents the calculated state of a specific weight layer\n",
    "# activation_min/max: can be used to view the activation contrast in more detail, by default matplot sets min and max to the actual min and max values of the output\n",
    "# plt_num: used to plot out multiple different weight feature map sets on the same block, just extend the plt number for each new feature map entry\n",
    "\n",
    "def outputFeatureMap(image_input, tf_activation, activation_min=-1, activation_max=-1 ,plt_num=1):\n",
    "    # Here make sure to preprocess your image_input in a way your network expects\n",
    "    # with size, normalization, ect if needed\n",
    "    # image_input =\n",
    "    # Note: x should be the same name as your network's tensorflow data placeholder variable\n",
    "    # If you get an error tf_activation is not defined it may be having trouble accessing the variable from inside a function\n",
    "    activation = tf_activation.eval(session=sess,feed_dict={x : image_input})\n",
    "    featuremaps = activation.shape[3]\n",
    "    plt.figure(plt_num, figsize=(15,15))\n",
    "    for featuremap in range(featuremaps):\n",
    "        plt.subplot(6,8, featuremap+1) # sets the number of feature maps to show on each row and column\n",
    "        plt.title('FeatureMap ' + str(featuremap)) # displays the feature map number\n",
    "        if activation_min != -1 & activation_max != -1:\n",
    "            plt.imshow(activation[0,:,:, featuremap], interpolation=\"nearest\", vmin =activation_min, vmax=activation_max, cmap=\"gray\")\n",
    "        elif activation_max != -1:\n",
    "            plt.imshow(activation[0,:,:, featuremap], interpolation=\"nearest\", vmax=activation_max, cmap=\"gray\")\n",
    "        elif activation_min !=-1:\n",
    "            plt.imshow(activation[0,:,:, featuremap], interpolation=\"nearest\", vmin=activation_min, cmap=\"gray\")\n",
    "        else:\n",
    "            plt.imshow(activation[0,:,:, featuremap], interpolation=\"nearest\", cmap=\"gray\")"
   ]
  }
 ],
 "metadata": {
  "anaconda-cloud": {},
  "kernelspec": {
   "display_name": "Python 3",
   "language": "python",
   "name": "python3"
  },
  "language_info": {
   "codemirror_mode": {
    "name": "ipython",
    "version": 3
   },
   "file_extension": ".py",
   "mimetype": "text/x-python",
   "name": "python",
   "nbconvert_exporter": "python",
   "pygments_lexer": "ipython3",
   "version": "3.5.2"
  },
  "widgets": {
   "state": {},
   "version": "1.1.2"
  }
 },
 "nbformat": 4,
 "nbformat_minor": 1
}
